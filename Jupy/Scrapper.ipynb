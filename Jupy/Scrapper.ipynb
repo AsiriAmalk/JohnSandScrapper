{
 "cells": [
  {
   "cell_type": "code",
   "execution_count": 11,
   "metadata": {},
   "outputs": [],
   "source": [
    "from bs4 import BeautifulSoup\n",
    "from urllib.request import Request, urlopen\n",
    "import numpy as np\n",
    "\n",
    "# site= \"https://www.johnsand.co/for-sale/properties-available-in-london/?sort_by=newest\"\n",
    "# hdr = {'User-Agent': 'Mozilla/5.0'}\n",
    "# req = Request(site,headers=hdr)\n",
    "# page = urlopen(req)\n",
    "# soup = BeautifulSoup(page, features=\"html.parser\")"
   ]
  },
  {
   "cell_type": "code",
   "execution_count": 2,
   "metadata": {},
   "outputs": [],
   "source": [
    "# page_count = int(soup.find(\"span\", {\"class\": \"pagination__total-pages\"}).text.split(\" \")[1])\n",
    "\n",
    "# card =  cards[0].text.strip().splitlines()"
   ]
  },
  {
   "cell_type": "code",
   "execution_count": 3,
   "metadata": {},
   "outputs": [],
   "source": []
  },
  {
   "cell_type": "code",
   "execution_count": 4,
   "metadata": {},
   "outputs": [],
   "source": [
    "BASE_URL = \"https://www.johnsand.co/for-sale/properties-available-in-london/{:d}/?sort_by=newest\"\n",
    "\n",
    "def get_page_count():\n",
    "    site= \"https://www.johnsand.co/for-sale/properties-available-in-london/?sort_by=newest\"\n",
    "    hdr = {'User-Agent': 'Mozilla/5.0'}\n",
    "    req = Request(site,headers=hdr)\n",
    "    page = urlopen(req)\n",
    "    soup = BeautifulSoup(page, features=\"html.parser\")\n",
    "    return int(soup.find(\"span\", {\"class\": \"pagination__total-pages\"}).text.split(\" \")[1])\n",
    "\n",
    "def get_card_list_for_site(site):\n",
    "#     site= \"https://www.johnsand.co/for-sale/properties-available-in-london/?sort_by=newest\"\n",
    "    hdr = {'User-Agent': 'Mozilla/5.0'}\n",
    "    req = Request(site,headers=hdr)\n",
    "    page = urlopen(req)\n",
    "    soup = BeautifulSoup(page, features=\"html.parser\")\n",
    "\n",
    "    cards = soup.find_all(\"article\", {\"class\": \"grid-item\"})\n",
    "\n",
    "    card_list = []\n",
    "\n",
    "    for i in range(len(cards)):\n",
    "\n",
    "        card =  cards[i].text.strip().splitlines()\n",
    "        url = cards[i].find_all(href=True)[0]['href']\n",
    "\n",
    "        while(\"\" in card) : \n",
    "            card.remove(\"\")\n",
    "        for j in range(len(card)):\n",
    "            card[j] = card[j].rstrip(\" \")\n",
    "\n",
    "        inter= card[3].split(\"(s)\")\n",
    "        while(\"\" in inter) : \n",
    "            inter.remove(\"\")\n",
    "\n",
    "        numbers= []\n",
    "\n",
    "    #     a_string = inter[0]\n",
    "        for a_string in inter:\n",
    "            numbers.append([int(word) for word in a_string.split() if word.isdigit()])\n",
    "        numbers = np.array(numbers).flatten()\n",
    "\n",
    "        try:    \n",
    "    #         print(i)\n",
    "            card.append(numbers[0])\n",
    "            card.append(numbers[1])\n",
    "        except:\n",
    "            card.append(\"NA\")\n",
    "            card.append(\"NA\")\n",
    "        card.append(url)\n",
    "        card_list.append(card)\n",
    "    return card_list"
   ]
  },
  {
   "cell_type": "code",
   "execution_count": 6,
   "metadata": {},
   "outputs": [],
   "source": []
  },
  {
   "cell_type": "code",
   "execution_count": 12,
   "metadata": {},
   "outputs": [],
   "source": [
    "page_count = get_page_count()\n",
    "all_cards = []\n",
    "# get all_cards(page_count):\n",
    "for page_id in range(page_count):\n",
    "    site_url = BASE_URL.format(page_id)\n",
    "    all_cards.extend(get_card_list_for_site(site=site_url))"
   ]
  },
  {
   "cell_type": "code",
   "execution_count": 20,
   "metadata": {},
   "outputs": [
    {
     "data": {
      "text/plain": [
       "396"
      ]
     },
     "execution_count": 20,
     "metadata": {},
     "output_type": "execute_result"
    }
   ],
   "source": [
    "len(all_cards)"
   ]
  },
  {
   "cell_type": "code",
   "execution_count": 21,
   "metadata": {},
   "outputs": [
    {
     "data": {
      "text/plain": [
       "[['Wardian',\n",
       "  ' West Tower, London, E14',\n",
       "  '£510,000',\n",
       "  'Suite1 Bath(s)',\n",
       "  'View Property',\n",
       "  'NA',\n",
       "  'NA',\n",
       "  'https://www.johnsand.co/properties/wardian-2552769/'],\n",
       " ['13B.05.04',\n",
       "  ' John Cabot House, Royal Wharf, E16',\n",
       "  '£593,250',\n",
       "  '2 Bed(s)2 Bath(s)',\n",
       "  'View Property',\n",
       "  2,\n",
       "  2,\n",
       "  'https://www.johnsand.co/properties/13b-05-04-2552402/'],\n",
       " ['13D.06.07',\n",
       "  ' John Cabot House, Royal Wharf, E16',\n",
       "  '£651,000',\n",
       "  '2 Bed(s)2 Bath(s)',\n",
       "  'View Property',\n",
       "  2,\n",
       "  2,\n",
       "  'https://www.johnsand.co/properties/13d-06-07-2552361/']]"
      ]
     },
     "execution_count": 21,
     "metadata": {},
     "output_type": "execute_result"
    }
   ],
   "source": [
    "all_cards[1:4]"
   ]
  },
  {
   "cell_type": "code",
   "execution_count": 13,
   "metadata": {},
   "outputs": [],
   "source": [
    "page_id = 2\n",
    "BASE_URL = \"https://www.johnsand.co/for-sale/properties-available-in-london/{:d}/?sort_by=newest\"\n",
    "site_url = BASE_URL.format(page_id)"
   ]
  },
  {
   "cell_type": "code",
   "execution_count": 7,
   "metadata": {},
   "outputs": [],
   "source": [
    "def get_card_list_for_site(site):\n",
    "#     site= \"https://www.johnsand.co/for-sale/properties-available-in-london/?sort_by=newest\"\n",
    "    hdr = {'User-Agent': 'Mozilla/5.0'}\n",
    "    req = Request(site,headers=hdr)\n",
    "    page = urlopen(req)\n",
    "    soup = BeautifulSoup(page, features=\"html.parser\")\n",
    "\n",
    "    cards = soup.find_all(\"article\", {\"class\": \"grid-item\"})\n",
    "\n",
    "    card_list = []\n",
    "\n",
    "    for i in range(len(cards)):\n",
    "\n",
    "        card =  cards[i].text.strip().splitlines()\n",
    "        url = cards[i].find_all(href=True)[0]['href']\n",
    "\n",
    "        while(\"\" in card) : \n",
    "            card.remove(\"\")\n",
    "        for j in range(len(card)):\n",
    "            card[j] = card[j].rstrip(\" \")\n",
    "\n",
    "        inter= card[3].split(\"(s)\")\n",
    "        while(\"\" in inter) : \n",
    "            inter.remove(\"\")\n",
    "\n",
    "        numbers= []\n",
    "\n",
    "    #     a_string = inter[0]\n",
    "        for a_string in inter:\n",
    "            numbers.append([int(word) for word in a_string.split() if word.isdigit()])\n",
    "        numbers = np.array(numbers).flatten()\n",
    "\n",
    "        try:    \n",
    "    #         print(i)\n",
    "            card.insert(3, numbers[0])\n",
    "            card.insert(4, numbers[1])\n",
    "        except:\n",
    "            card.insert(3, \"NA\")\n",
    "            card.insert(4, \"NA\")\n",
    "        card.inset(5, url)\n",
    "        card_list.append(card)\n",
    "    return card_list"
   ]
  },
  {
   "cell_type": "code",
   "execution_count": 14,
   "metadata": {},
   "outputs": [
    {
     "data": {
      "text/plain": [
       "[['John Cabot House',\n",
       "  ' Royal Wharf, E16',\n",
       "  '£635,000',\n",
       "  '2 Bed(s)2 Bath(s)',\n",
       "  'View Property',\n",
       "  2,\n",
       "  2,\n",
       "  'https://www.johnsand.co/properties/john-cabot-house-2549473/'],\n",
       " ['Wardian',\n",
       "  ' West Tower, London, E14',\n",
       "  '£960,000',\n",
       "  '2 Bed(s)2 Bath(s)',\n",
       "  'View Property',\n",
       "  2,\n",
       "  2,\n",
       "  'https://www.johnsand.co/properties/wardian-2549423/'],\n",
       " ['18.02.07 Marco Polo',\n",
       "  ' Royal Wharf, E16',\n",
       "  '£625,000',\n",
       "  '2 Bed(s)2 Bath(s)',\n",
       "  'View Property',\n",
       "  2,\n",
       "  2,\n",
       "  'https://www.johnsand.co/properties/18-02-07-marco-polo-2549235/'],\n",
       " ['13C.02.05 John Cabot House',\n",
       "  ' Royal Wharf, E16',\n",
       "  '£577,500',\n",
       "  '2 Bed(s)2 Bath(s)',\n",
       "  'View Property',\n",
       "  2,\n",
       "  2,\n",
       "  'https://www.johnsand.co/properties/13c-02-05-john-cabot-house-2549225/'],\n",
       " ['13D.04.03 John Cabot House',\n",
       "  ' Royal Wharf, E16',\n",
       "  '£609,000',\n",
       "  '2 Bed(s)2 Bath(s)',\n",
       "  'View Property',\n",
       "  2,\n",
       "  2,\n",
       "  'https://www.johnsand.co/properties/13d-04-03-john-cabot-house-2549216/'],\n",
       " ['13D.04.07',\n",
       "  ' John Cabot House, Royal Wharf, E16',\n",
       "  '£640,500',\n",
       "  '2 Bed(s)2 Bath(s)',\n",
       "  'View Property',\n",
       "  2,\n",
       "  2,\n",
       "  'https://www.johnsand.co/properties/13d-04-07-2549208/'],\n",
       " ['Belvedere Row',\n",
       "  ' White City Living, White City, W12',\n",
       "  '£1,100,000',\n",
       "  '2 Bed(s)2 Bath(s)',\n",
       "  'View Property',\n",
       "  2,\n",
       "  2,\n",
       "  'https://www.johnsand.co/properties/belvedere-row-2549193/'],\n",
       " ['Wardian',\n",
       "  ' East Tower, London, E14',\n",
       "  '£560,000',\n",
       "  'Suite1 Bath(s)',\n",
       "  'View Property',\n",
       "  'NA',\n",
       "  'NA',\n",
       "  'https://www.johnsand.co/properties/wardian-2548928/'],\n",
       " ['Legacy Building',\n",
       "  ' Embassy Gardens, Nine Elms, SW11',\n",
       "  '£1,200,000',\n",
       "  '2 Bed(s)2 Bath(s)',\n",
       "  'View Property',\n",
       "  2,\n",
       "  2,\n",
       "  'https://www.johnsand.co/properties/legacy-building-2548901/'],\n",
       " ['Park View',\n",
       "  ' Royal Wharf, London, E16',\n",
       "  '£435,000',\n",
       "  '1 Bed(s)1 Bath(s)',\n",
       "  'View Property',\n",
       "  1,\n",
       "  1,\n",
       "  'https://www.johnsand.co/properties/park-view-2548366/'],\n",
       " ['Wardian',\n",
       "  ' West Tower, London, E14',\n",
       "  '£472,905',\n",
       "  'Suite1 Bath(s)',\n",
       "  'View Property',\n",
       "  'NA',\n",
       "  'NA',\n",
       "  'https://www.johnsand.co/properties/wardian-2548289/'],\n",
       " ['Argo',\n",
       "  ' Goodluck Hope, London, E14',\n",
       "  '£728,000',\n",
       "  '2 Bed(s)2 Bath(s)',\n",
       "  'View Property',\n",
       "  2,\n",
       "  2,\n",
       "  'https://www.johnsand.co/properties/argo-2547622/']]"
      ]
     },
     "execution_count": 14,
     "metadata": {},
     "output_type": "execute_result"
    }
   ],
   "source": [
    "get_card_list_for_site(site=site_url)"
   ]
  },
  {
   "cell_type": "code",
   "execution_count": 16,
   "metadata": {},
   "outputs": [],
   "source": [
    "a =[2, 3, 5, 6]"
   ]
  },
  {
   "cell_type": "code",
   "execution_count": 17,
   "metadata": {},
   "outputs": [],
   "source": [
    "a.insert(1, \"dsa\")"
   ]
  },
  {
   "cell_type": "code",
   "execution_count": 18,
   "metadata": {},
   "outputs": [
    {
     "data": {
      "text/plain": [
       "[2, 'dsa', 3, 5, 6]"
      ]
     },
     "execution_count": 18,
     "metadata": {},
     "output_type": "execute_result"
    }
   ],
   "source": [
    "a"
   ]
  },
  {
   "cell_type": "code",
   "execution_count": 4,
   "metadata": {},
   "outputs": [
    {
     "data": {
      "text/plain": [
       "'          Marco Polo        \\n Royal Wharf, London, E16\\n\\n\\n£725,000 \\n\\n\\n\\n\\n2 Bed(s)2 Bath(s)\\nView Property'"
      ]
     },
     "execution_count": 4,
     "metadata": {},
     "output_type": "execute_result"
    }
   ],
   "source": [
    "cards[0].text.strip(\"\\r\\n\").strip(\"\\n\")"
   ]
  },
  {
   "cell_type": "code",
   "execution_count": 35,
   "metadata": {},
   "outputs": [
    {
     "name": "stdout",
     "output_type": "stream",
     "text": [
      "4\n"
     ]
    }
   ],
   "source": [
    "card =  cards[0].text.strip().splitlines()\n",
    "while(\"\" in card) : \n",
    "    card.remove(\"\")\n",
    "for j in range(len(card)):\n",
    "    card[j] = card[j].rstrip(\" \")\n",
    "\n",
    "inter= card[3].split(\"(s)\")\n",
    "while(\"\" in inter) : \n",
    "    inter.remove(\"\")\n",
    "\n",
    "numbers= []\n",
    "\n",
    "a_string = inter[0]\n",
    "for a_string in inter:\n",
    "    numbers.append([int(word) for word in a_string.split() if word.isdigit()])\n",
    "numbers = np.array(numbers).flatten()\n",
    "\n",
    "print(i)\n",
    "card.append(numbers[0])\n",
    "card.append(numbers[1])\n",
    "    "
   ]
  },
  {
   "cell_type": "code",
   "execution_count": 39,
   "metadata": {},
   "outputs": [],
   "source": [
    "card =  cards[0].text.strip().splitlines()\n",
    "while(\"\" in card) : \n",
    "    card.remove(\"\")\n",
    "for j in range(len(card)):\n",
    "    card[j] = card[j].rstrip(\" \")\n",
    "inter= card[3].split(\"(s)\")\n",
    "while(\"\" in inter) : \n",
    "    inter.remove(\"\")\n"
   ]
  },
  {
   "cell_type": "code",
   "execution_count": 40,
   "metadata": {},
   "outputs": [
    {
     "data": {
      "text/plain": [
       "['2 Bed', '2 Bath']"
      ]
     },
     "execution_count": 40,
     "metadata": {},
     "output_type": "execute_result"
    }
   ],
   "source": [
    "inter"
   ]
  },
  {
   "cell_type": "code",
   "execution_count": 41,
   "metadata": {},
   "outputs": [
    {
     "data": {
      "text/plain": [
       "['Marco Polo',\n",
       " ' Royal Wharf, London, E16',\n",
       " '£725,000',\n",
       " '2 Bed(s)2 Bath(s)',\n",
       " 'View Property']"
      ]
     },
     "execution_count": 41,
     "metadata": {},
     "output_type": "execute_result"
    }
   ],
   "source": [
    "card"
   ]
  },
  {
   "cell_type": "code",
   "execution_count": 49,
   "metadata": {},
   "outputs": [],
   "source": [
    "card =  cards[0].text.strip().splitlines()\n",
    "while(\"\" in card) : \n",
    "    card.remove(\"\")\n",
    "for j in range(len(card)):\n",
    "    card[j] = card[j].rstrip(\" \")\n",
    "inter= card[3].split(\"(s)\")\n",
    "while(\"\" in inter) : \n",
    "    inter.remove(\"\")\n",
    "\n",
    "card_list = []\n",
    "\n",
    "for i in range(len(cards)):\n",
    "\n",
    "    card =  cards[i].text.strip().splitlines()\n",
    "    while(\"\" in card) : \n",
    "        card.remove(\"\")\n",
    "    for j in range(len(card)):\n",
    "        card[j] = card[j].rstrip(\" \")\n",
    "\n",
    "    inter= card[3].split(\"(s)\")\n",
    "    while(\"\" in inter) : \n",
    "        inter.remove(\"\")\n",
    "\n",
    "    numbers= []\n",
    "\n",
    "    a_string = inter[0]\n",
    "    for a_string in inter:\n",
    "        numbers.append([int(word) for word in a_string.split() if word.isdigit()])\n",
    "    numbers = np.array(numbers).flatten()\n",
    "    \n",
    "    try:    \n",
    "#         print(i)\n",
    "        card.append(numbers[0])\n",
    "        card.append(numbers[1])\n",
    "    except:\n",
    "        card.append(\"NA\")\n",
    "        card.append(\"NA\")\n",
    "    card_list.append(card)"
   ]
  },
  {
   "cell_type": "code",
   "execution_count": 48,
   "metadata": {},
   "outputs": [
    {
     "data": {
      "text/plain": [
       "[['Marco Polo',\n",
       "  ' Royal Wharf, London, E16',\n",
       "  '£725,000',\n",
       "  '2 Bed(s)2 Bath(s)',\n",
       "  'View Property',\n",
       "  2,\n",
       "  2],\n",
       " ['Wardian',\n",
       "  ' West Tower, London, E14',\n",
       "  '£510,000',\n",
       "  'Suite1 Bath(s)',\n",
       "  'View Property',\n",
       "  'NA',\n",
       "  'NA'],\n",
       " ['13B.05.04',\n",
       "  ' John Cabot House, Royal Wharf, E16',\n",
       "  '£593,250',\n",
       "  '2 Bed(s)2 Bath(s)',\n",
       "  'View Property',\n",
       "  2,\n",
       "  2],\n",
       " ['13D.06.07',\n",
       "  ' John Cabot House, Royal Wharf, E16',\n",
       "  '£651,000',\n",
       "  '2 Bed(s)2 Bath(s)',\n",
       "  'View Property',\n",
       "  2,\n",
       "  2],\n",
       " ['Wardian',\n",
       "  ' East Tower, London E14',\n",
       "  '£575,000',\n",
       "  '1 Bed(s)1 Bath(s)',\n",
       "  'View Property',\n",
       "  1,\n",
       "  1],\n",
       " ['John Cabot',\n",
       "  ' Royal Wharf, London, E16',\n",
       "  '£575,000',\n",
       "  '2 Bed(s)2 Bath(s)',\n",
       "  'View Property',\n",
       "  2,\n",
       "  2],\n",
       " ['John Cabot',\n",
       "  ' Royal Wharf, London, E16',\n",
       "  '£435,000',\n",
       "  '1 Bed(s)1 Bath(s)',\n",
       "  'View Property',\n",
       "  1,\n",
       "  1],\n",
       " ['Pan Peninsula',\n",
       "  ' East Tower, London, E14',\n",
       "  '£500,000',\n",
       "  '1 Bed(s)1 Bath(s)',\n",
       "  'View Property',\n",
       "  1,\n",
       "  1],\n",
       " ['13D.07.07 John Cabot',\n",
       "  ' Royal Wharf, E16',\n",
       "  '£656,250',\n",
       "  '2 Bed(s)2 Bath(s)',\n",
       "  'View Property',\n",
       "  2,\n",
       "  2],\n",
       " ['Chi Building',\n",
       "  ' Crowder Street, London, E1',\n",
       "  '£550,000',\n",
       "  '2 Bed(s)1 Bath(s)',\n",
       "  'View Property',\n",
       "  2,\n",
       "  1],\n",
       " ['Commodore House',\n",
       "  ' Royal Wharf, London, E16',\n",
       "  '£575,000',\n",
       "  '2 Bed(s)2 Bath(s)',\n",
       "  'View Property',\n",
       "  2,\n",
       "  2],\n",
       " ['Marco Polo',\n",
       "  ' Royal Wharf, London, E16',\n",
       "  '£1,150,000',\n",
       "  '3 Bed(s)2 Bath(s)',\n",
       "  'View Property',\n",
       "  3,\n",
       "  2]]"
      ]
     },
     "execution_count": 48,
     "metadata": {},
     "output_type": "execute_result"
    }
   ],
   "source": [
    "card_list"
   ]
  },
  {
   "cell_type": "code",
   "execution_count": 25,
   "metadata": {},
   "outputs": [
    {
     "data": {
      "text/plain": [
       "array([], dtype=float64)"
      ]
     },
     "execution_count": 25,
     "metadata": {},
     "output_type": "execute_result"
    }
   ],
   "source": [
    "numbers"
   ]
  },
  {
   "cell_type": "code",
   "execution_count": 26,
   "metadata": {},
   "outputs": [
    {
     "data": {
      "text/plain": [
       "['Wardian',\n",
       " ' West Tower, London, E14',\n",
       " '£510,000',\n",
       " 'Suite1 Bath(s)',\n",
       " 'View Property']"
      ]
     },
     "execution_count": 26,
     "metadata": {},
     "output_type": "execute_result"
    }
   ],
   "source": [
    "card"
   ]
  },
  {
   "cell_type": "code",
   "execution_count": 27,
   "metadata": {},
   "outputs": [],
   "source": [
    "inter= card[3].split(\"(s)\")\n",
    "while(\"\" in inter) : \n",
    "    inter.remove(\"\")"
   ]
  },
  {
   "cell_type": "code",
   "execution_count": 28,
   "metadata": {},
   "outputs": [
    {
     "data": {
      "text/plain": [
       "['Suite1 Bath']"
      ]
     },
     "execution_count": 28,
     "metadata": {},
     "output_type": "execute_result"
    }
   ],
   "source": [
    "inter"
   ]
  },
  {
   "cell_type": "code",
   "execution_count": 45,
   "metadata": {},
   "outputs": [],
   "source": [
    "numbers= []"
   ]
  },
  {
   "cell_type": "code",
   "execution_count": 46,
   "metadata": {},
   "outputs": [
    {
     "data": {
      "text/plain": [
       "['Suite1 Bath']"
      ]
     },
     "execution_count": 46,
     "metadata": {},
     "output_type": "execute_result"
    }
   ],
   "source": [
    "inter"
   ]
  },
  {
   "cell_type": "code",
   "execution_count": 44,
   "metadata": {},
   "outputs": [
    {
     "ename": "IndexError",
     "evalue": "list index out of range",
     "output_type": "error",
     "traceback": [
      "\u001b[1;31m---------------------------------------------------------------------------\u001b[0m",
      "\u001b[1;31mIndexError\u001b[0m                                Traceback (most recent call last)",
      "\u001b[1;32m<ipython-input-44-460e11ff0d91>\u001b[0m in \u001b[0;36m<module>\u001b[1;34m\u001b[0m\n\u001b[0;32m      3\u001b[0m \u001b[1;31m#     numbers.appens(a_sptring)\u001b[0m\u001b[1;33m\u001b[0m\u001b[1;33m\u001b[0m\u001b[1;33m\u001b[0m\u001b[0m\n\u001b[0;32m      4\u001b[0m \u001b[1;32mfor\u001b[0m \u001b[0ma_string\u001b[0m \u001b[1;32min\u001b[0m \u001b[0minter\u001b[0m\u001b[1;33m:\u001b[0m\u001b[1;33m\u001b[0m\u001b[1;33m\u001b[0m\u001b[0m\n\u001b[1;32m----> 5\u001b[1;33m     \u001b[1;32mif\u001b[0m \u001b[0minter\u001b[0m\u001b[1;33m[\u001b[0m\u001b[1;36m1\u001b[0m\u001b[1;33m]\u001b[0m \u001b[1;33m!=\u001b[0m \u001b[1;34m\"B\"\u001b[0m\u001b[1;33m:\u001b[0m\u001b[1;33m\u001b[0m\u001b[1;33m\u001b[0m\u001b[0m\n\u001b[0m\u001b[0;32m      6\u001b[0m \u001b[1;31m#     numbers.appens(inter)\u001b[0m\u001b[1;33m\u001b[0m\u001b[1;33m\u001b[0m\u001b[1;33m\u001b[0m\u001b[0m\n\u001b[0;32m      7\u001b[0m \u001b[1;31m#     numbers.append([int(word) for word in a_string.split() if word.isdigit()])\u001b[0m\u001b[1;33m\u001b[0m\u001b[1;33m\u001b[0m\u001b[1;33m\u001b[0m\u001b[0m\n",
      "\u001b[1;31mIndexError\u001b[0m: list index out of range"
     ]
    }
   ],
   "source": [
    "# # a_string = inter[0]\n",
    "# if a_string != \"Bed\":\n",
    "#     numbers.appens(a_sptring)\n",
    "for a_string in inter:\n",
    "    if inter[1] != \"B\":\n",
    "#     numbers.appens(inter)\n",
    "#     numbers.append([int(word) for word in a_string.split() if word.isdigit()])\n",
    "        print(inter)"
   ]
  },
  {
   "cell_type": "code",
   "execution_count": 34,
   "metadata": {},
   "outputs": [
    {
     "data": {
      "text/plain": [
       "['Suite1', 'Bath']"
      ]
     },
     "execution_count": 34,
     "metadata": {},
     "output_type": "execute_result"
    }
   ],
   "source": [
    "a_string.split()"
   ]
  },
  {
   "cell_type": "code",
   "execution_count": 98,
   "metadata": {},
   "outputs": [
    {
     "data": {
      "text/plain": [
       "array([2, 2])"
      ]
     },
     "execution_count": 98,
     "metadata": {},
     "output_type": "execute_result"
    }
   ],
   "source": [
    "np.array(numbers).flatten()"
   ]
  },
  {
   "cell_type": "code",
   "execution_count": 85,
   "metadata": {},
   "outputs": [
    {
     "data": {
      "text/plain": [
       "[2]"
      ]
     },
     "execution_count": 85,
     "metadata": {},
     "output_type": "execute_result"
    }
   ],
   "source": [
    "[int(word) for word in a_string.split() if word.isdigit()]"
   ]
  },
  {
   "cell_type": "code",
   "execution_count": 39,
   "metadata": {},
   "outputs": [],
   "source": [
    "for i in range(len(a)):\n",
    "    a[i] = a[i].rstrip(\" \")\n",
    "    "
   ]
  },
  {
   "cell_type": "code",
   "execution_count": 31,
   "metadata": {},
   "outputs": [
    {
     "data": {
      "text/plain": [
       "[[]]"
      ]
     },
     "execution_count": 31,
     "metadata": {},
     "output_type": "execute_result"
    }
   ],
   "source": [
    "numbers"
   ]
  },
  {
   "cell_type": "code",
   "execution_count": null,
   "metadata": {},
   "outputs": [],
   "source": []
  }
 ],
 "metadata": {
  "kernelspec": {
   "display_name": "Python 3",
   "language": "python",
   "name": "python3"
  },
  "language_info": {
   "codemirror_mode": {
    "name": "ipython",
    "version": 3
   },
   "file_extension": ".py",
   "mimetype": "text/x-python",
   "name": "python",
   "nbconvert_exporter": "python",
   "pygments_lexer": "ipython3",
   "version": "3.7.6"
  }
 },
 "nbformat": 4,
 "nbformat_minor": 4
}
